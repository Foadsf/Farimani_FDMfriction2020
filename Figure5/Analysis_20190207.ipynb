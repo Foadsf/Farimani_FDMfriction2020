{
 "cells": [
  {
   "cell_type": "code",
   "execution_count": 1,
   "metadata": {},
   "outputs": [],
   "source": [
    "import os\n",
    "os.chdir(os.getcwd())\n",
    "\n",
    "import pandas as pd # you need to also have xlrd installed\n",
    "import numpy as np\n",
    "from scipy.signal import argrelextrema\n",
    "import xlsxwriter\n",
    "import matplotlib.pyplot as plt\n",
    "from scipy.optimize import curve_fit\n",
    "\n",
    "\n",
    "# mean absolute deviation function\n",
    "def mad(data, axis=None):\n",
    "    return np.mean(np.absolute(data - np.mean(data, axis)), axis)\n",
    "\n",
    "speeds = [50, 100, 150, 200, 300, 400, 600, 800, 1000, 1200, 1400, 1600, 1800]\n",
    "areas = [900, 1700, 2500]\n",
    "\n",
    "surcon = 'ss perpendicular perpendicular'"
   ]
  },
  {
   "cell_type": "code",
   "execution_count": 2,
   "metadata": {},
   "outputs": [],
   "source": [
    "writer = pd.ExcelWriter(surcon + '\\\\analysis_20190207_static.xlsx', engine = 'xlsxwriter', options={'strings_to_numbers': True})\n",
    "for a in areas:\n",
    "    for s in speeds:\n",
    "        file = surcon + '\\\\' + str(a) + 'mm\\\\' + str(a) + 'mm_' + str(s) + 'mm_min.xls'\n",
    "        xls = pd.ExcelFile(file)\n",
    "        weights = [int(w[:-1]) for w in xls.sheet_names[3:]]\n",
    "#         print(weights)\n",
    "        if \"df1\" not in locals():\n",
    "            df1 = pd.DataFrame(columns = speeds, index = weights)\n",
    "        for k, w in enumerate(weights):\n",
    "            df2 = pd.read_excel(file, sheet_name = str(w) + \"g\")\n",
    "            \n",
    "            #clean up columns\n",
    "            df2.columns = ['time', 'strain', 'force', 'work']\n",
    "            df2.drop(df2.index[[0, 1]], inplace = True)\n",
    "            \n",
    "            # static_strain(mm)','static_force(N)'\n",
    "            max = df2['force'].max()\n",
    "            df1[s][weights[k]] = max       \n",
    "\n",
    "    df1.to_excel(writer, sheet_name=str(a))\n",
    "    del df1\n",
    "writer.save()"
   ]
  },
  {
   "cell_type": "code",
   "execution_count": 5,
   "metadata": {},
   "outputs": [],
   "source": [
    "def func_lin1(x, c):\n",
    "    return c * x\n",
    "\n",
    "def func_lin2(x, a, b):\n",
    "    return a * x + b\n",
    "\n",
    "def func_TB(x, d, e):\n",
    "    return d * x + e * x ** (2 / 3)"
   ]
  },
  {
   "cell_type": "code",
   "execution_count": 7,
   "metadata": {},
   "outputs": [],
   "source": [
    "writer = pd.ExcelWriter(surcon + '\\\\analysis_20190207_kinematic_fit.xlsx', engine = 'xlsxwriter')\n",
    "\n",
    "file = os.getcwd() + \"\\\\\" + surcon + \"\\\\\" + \"analysis_20190207_kinematic.xlsx\"\n",
    "for a in areas:\n",
    "    df6 = pd.read_excel(file, sheet_name = str(a))\n",
    "    df7 = pd.DataFrame(columns = ['a', 'b', 'c', 'd', 'e'], index = speeds)\n",
    "    for s in speeds:\n",
    "        Force = df6[s].values.astype(float)\n",
    "        popt1, pcov1 = curve_fit(func_lin1, df6.index.values, Force)\n",
    "        popt2, pcov2 = curve_fit(func_lin2, df6.index.values, Force, p0 = [popt1[0], 0], bounds = ([0, 0], [np.inf, np.inf]))\n",
    "        popt3, pcov3 = curve_fit(func_TB,   df6.index.values, Force, p0 = [popt1[0], 0], bounds = ([0, 0], [np.inf, np.inf]))\n",
    "#         print(popt.tolist() + popt2.tolist())\n",
    "        df7.loc[s] = popt1.tolist() + popt2.tolist() + popt3.tolist()\n",
    "    df7.to_excel(writer, sheet_name=str(a))\n",
    "writer.save()"
   ]
  },
  {
   "cell_type": "code",
   "execution_count": 3,
   "metadata": {},
   "outputs": [],
   "source": [
    "writer = pd.ExcelWriter(surcon + '\\\\analysis_20190207_kinematic.xlsx', engine = 'xlsxwriter', options={'strings_to_numbers': True})\n",
    "for a in areas:\n",
    "    for s in speeds:\n",
    "        file = surcon + '\\\\' + str(a) + 'mm\\\\' + str(a) + 'mm_' + str(s) + 'mm_min.xls'\n",
    "        xls = pd.ExcelFile(file)\n",
    "        weights = [int(w[:-1]) for w in xls.sheet_names[3:]]\n",
    "#         print(weights)\n",
    "        if \"df1\" not in locals():\n",
    "            df1 = pd.DataFrame(columns = speeds, index = weights)\n",
    "        for k, w in enumerate(weights):\n",
    "            df2 = pd.read_excel(file, sheet_name = str(w) + \"g\")\n",
    "            \n",
    "            #clean up columns\n",
    "            df2.columns = ['time', 'strain', 'force', 'work']\n",
    "            df2.drop(df2.index[[0, 1]], inplace = True)\n",
    "            \n",
    "            n = 9  # the bigger the more comparison width\n",
    "            df2['max'] = df2.iloc[argrelextrema(df2.force.values, np.greater_equal, order=n)[0], 2]\n",
    "            \n",
    "            #removing the NaNs\n",
    "            df3 = df2.dropna(subset=['max'])\n",
    "            \n",
    "            #calculating the delta\n",
    "            pd.options.mode.chained_assignment = None  # default='warn'\n",
    "            df3['del'] = df3.strain - df3.strain.shift(1)\n",
    "            \n",
    "            #removing the too close points\n",
    "            df3 = df3[df3['del'] > 0.5 * df3['del'].mean()]\n",
    "            df3 = df3[df3['del'] < 1.9 * df3['del'].mean()]\n",
    "            \n",
    "            #removing NaNs\n",
    "            df3 = df3.dropna(subset=['del'])\n",
    "            \n",
    "            df1[s][weights[k]] = df3['max'].mean()    \n",
    "\n",
    "    df1.to_excel(writer, sheet_name=str(a))\n",
    "    del df1\n",
    "writer.save()"
   ]
  },
  {
   "cell_type": "code",
   "execution_count": null,
   "metadata": {},
   "outputs": [],
   "source": []
  }
 ],
 "metadata": {
  "kernelspec": {
   "display_name": "Python 3",
   "language": "python",
   "name": "python3"
  },
  "language_info": {
   "codemirror_mode": {
    "name": "ipython",
    "version": 3
   },
   "file_extension": ".py",
   "mimetype": "text/x-python",
   "name": "python",
   "nbconvert_exporter": "python",
   "pygments_lexer": "ipython3",
   "version": "3.7.4"
  },
  "varInspector": {
   "cols": {
    "lenName": 16,
    "lenType": 16,
    "lenVar": 40
   },
   "kernels_config": {
    "python": {
     "delete_cmd_postfix": "",
     "delete_cmd_prefix": "del ",
     "library": "var_list.py",
     "varRefreshCmd": "print(var_dic_list())"
    },
    "r": {
     "delete_cmd_postfix": ") ",
     "delete_cmd_prefix": "rm(",
     "library": "var_list.r",
     "varRefreshCmd": "cat(var_dic_list()) "
    }
   },
   "types_to_exclude": [
    "module",
    "function",
    "builtin_function_or_method",
    "instance",
    "_Feature"
   ],
   "window_display": false
  }
 },
 "nbformat": 4,
 "nbformat_minor": 2
}
