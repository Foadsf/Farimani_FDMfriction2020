{
 "cells": [
  {
   "cell_type": "markdown",
   "metadata": {
    "colab_type": "text",
    "deletable": true,
    "editable": true,
    "id": "qE36HgPf3yBe"
   },
   "source": [
    "This will set the current working directory to the place where the .ipynb file resides"
   ]
  },
  {
   "cell_type": "code",
   "execution_count": null,
   "metadata": {
    "colab": {},
    "colab_type": "code",
    "deletable": true,
    "editable": true,
    "id": "Cr4tIbc83yBn"
   },
   "outputs": [],
   "source": [
    "import os\n",
    "os.chdir(os.getcwd())"
   ]
  },
  {
   "cell_type": "code",
   "execution_count": null,
   "metadata": {
    "colab": {},
    "colab_type": "code",
    "deletable": true,
    "editable": true,
    "id": "FR1BuVC_3yB8"
   },
   "outputs": [],
   "source": [
    "import pandas as pd\n",
    "import numpy as np\n",
    "from scipy.signal import argrelextrema\n",
    "import xlsxwriter\n",
    "import matplotlib.pyplot as plt\n",
    "from scipy.optimize import curve_fit"
   ]
  },
  {
   "cell_type": "markdown",
   "metadata": {
    "colab_type": "text",
    "deletable": true,
    "editable": true,
    "id": "CLgMnlFd3yCJ"
   },
   "source": [
    "Defining the mean absolute deviation function without importing Statsmodels library\n",
    "\n",
    "Alternatively I could use [Pandas built-in mad function](https://stackoverflow.com/a/44629090/4999991)"
   ]
  },
  {
   "cell_type": "code",
   "execution_count": null,
   "metadata": {
    "colab": {},
    "colab_type": "code",
    "deletable": true,
    "editable": true,
    "id": "hYrU8vYN3yCM"
   },
   "outputs": [],
   "source": [
    "# mean absolute deviation function\n",
    "def mad(data, axis=None):\n",
    "    return np.mean(np.absolute(data - np.mean(data, axis)), axis)"
   ]
  },
  {
   "cell_type": "markdown",
   "metadata": {
    "colab_type": "text",
    "deletable": true,
    "editable": true,
    "id": "1GELP1AR3yCX"
   },
   "source": [
    "Defining the linear function:"
   ]
  },
  {
   "cell_type": "code",
   "execution_count": null,
   "metadata": {
    "colab": {},
    "colab_type": "code",
    "deletable": true,
    "editable": true,
    "id": "KZookbLo3yCb"
   },
   "outputs": [],
   "source": [
    "def func(x, a, b):\n",
    "    return a * x + b"
   ]
  },
  {
   "cell_type": "markdown",
   "metadata": {
    "colab_type": "text",
    "deletable": true,
    "editable": true,
    "id": "YqsjtvuB3yCp"
   },
   "source": [
    "Defining some general information about the experiments:"
   ]
  },
  {
   "cell_type": "code",
   "execution_count": null,
   "metadata": {
    "colab": {},
    "colab_type": "code",
    "deletable": true,
    "editable": true,
    "id": "e7kKysHZ3yCt"
   },
   "outputs": [],
   "source": [
    "speed=[50,100,150,200,300,400,600,800,1000,1200,1400,1600,1800]\n",
    "#weights=['44','80','128','188','236']\n",
    "#weights=[44,80,128,188,236]\n",
    "headers=('static_strain(mm)','static_force','min_mean','min_del','min_del_mad','max_mean','max_del','max_del_mad')\n",
    "#df= pd.DataFrame(columns=headers,index=map(float,weights))\n",
    "# df= pd.DataFrame(columns=headers,index=weights)\n",
    "\n",
    "headers2=['static_force_a','static_force_b','static_strain_a','static_strain_b','kinetic_max_mean_a','kinetic_max_mean_b','kinetic_min_mean_a','kinetic_min_mean_b','kinetic_del_avg','kintetic_del_mad','mad/avg']\n",
    "df2= pd.DataFrame(columns=headers2,index=speed)\n",
    "\n",
    "areas=[900,1700,2500]\n",
    "\n",
    "surcons=('bs perpendicular','ss parallel parallel','ss parallel perpendicular','ss perpendicular perpendicular')\n",
    "surcon='ss parallel parallel'"
   ]
  },
  {
   "cell_type": "markdown",
   "metadata": {
    "colab_type": "text",
    "deletable": true,
    "editable": true,
    "id": "EU9CNZ353yC4"
   },
   "source": [
    "This will read all the excel files and export Analysis files per speed and Area"
   ]
  },
  {
   "cell_type": "code",
   "execution_count": null,
   "metadata": {
    "colab": {},
    "colab_type": "code",
    "deletable": true,
    "editable": true,
    "id": "0wznxSWo3yDE"
   },
   "outputs": [],
   "source": [
    "# writer2 = pd.ExcelWriter(surcon+'\\\\analysis.xlsx', engine='xlsxwriter')\n",
    "for a in areas:\n",
    "    #     writer = pd.ExcelWriter(surcon+'\\\\'+str(a)+'mm\\\\analysis.xlsx', engine='xlsxwriter')\n",
    "    for s in speed:\n",
    "        file = surcon + '\\\\' + str(a) + 'mm\\\\' + str(a) + 'mm_' + str(s) + 'mm_min.xls'\n",
    "        xls = pd.ExcelFile(file)\n",
    "        #print(xls.sheet_names[3:])\n",
    "        weights = [int(w[:-1]) for w in xls.sheet_names[3:]]\n",
    "        #print(a,',',s,',',weights)\n",
    "        df = pd.DataFrame(columns=headers, index=weights)\n",
    "        for j in weights:\n",
    "            dfs = pd.read_excel(file, sheet_name=str(j) + 'g')\n",
    "\n",
    "            #clean up columns\n",
    "            dfs.columns = ['time', 'strain', 'force', 'work']\n",
    "            dfs = dfs.drop(dfs.index[[0, 1]])\n",
    "            max = dfs['force'].max()\n",
    "            #print(max)\n",
    "            #print(dfs[dfs['force']==dfs['force'].max()])\n",
    "            #print(dfs[dfs['force']==max].strain.value)\n",
    "            #print(j,',',dfs[dfs['force']==max].strain.values[0],',',max,',', end='')\n",
    "            #df.loc[df.GPA == df.GPA.max(), 'ID'].values[0]\n",
    "            df[headers[0]][j] = dfs[dfs['force'] == max].strain.values[0]\n",
    "            df[headers[1]][j] = max\n",
    "\n",
    "            n = 9  # the bigger the more comparison width\n",
    "            dfs['min'] = dfs.iloc[argrelextrema(\n",
    "                dfs.force.values, np.less_equal, order=n)[0], 2]\n",
    "            dfs['max'] = dfs.iloc[argrelextrema(\n",
    "                dfs.force.values, np.greater_equal, order=n)[0], 2]\n",
    "\n",
    "            #removing the NaNs\n",
    "            dfs2 = dfs.dropna(subset=['min'])\n",
    "            dfs3 = dfs.dropna(subset=['max'])\n",
    "\n",
    "            #calculating the delta\n",
    "            pd.options.mode.chained_assignment = None  # default='warn'\n",
    "            dfs2['del'] = dfs2.strain - dfs2.strain.shift(1)\n",
    "            dfs3['del'] = dfs3.strain - dfs3.strain.shift(1)\n",
    "\n",
    "            #removing the too close points\n",
    "            dfs2 = dfs2[dfs2['del'] > 0.5 * dfs2['del'].mean()]\n",
    "            dfs3 = dfs3[dfs3['del'] > 0.5 * dfs3['del'].mean()]\n",
    "\n",
    "            dfs2 = dfs2[dfs2['del'] < 1.9 * dfs2['del'].mean()]\n",
    "            dfs3 = dfs3[dfs3['del'] < 1.9 * dfs3['del'].mean()]\n",
    "\n",
    "            #removing NaNs\n",
    "            dfs2 = dfs2.dropna(subset=['del'])\n",
    "            dfs3 = dfs3.dropna(subset=['del'])\n",
    "\n",
    "            #calculating mean frequency and mean absolute deviation\n",
    "            #print(dfs2['min'].mean(),',',dfs2['del'].mean(),',',mad(dfs2['del'].values), end='')\n",
    "            df[headers[2]][j] = dfs2['min'].mean()\n",
    "            df[headers[3]][j] = dfs2['del'].mean()\n",
    "            df[headers[4]][j] = mad(dfs2['del'].values)\n",
    "            #print(dfs3['max'].mean(),',',dfs3['del'].mean(),',',mad(dfs3['del'].values))\n",
    "            df[headers[5]][j] = dfs3['max'].mean()\n",
    "            df[headers[6]][j] = dfs3['del'].mean()\n",
    "            df[headers[7]][j] = mad(dfs3['del'].values)\n",
    "\n",
    "        #print(df)\n",
    "        df.to_excel(writer, sheet_name=str(s))\n",
    "        #print(df[headers[0]].values.ravel())\n",
    "        #print(df[headers[0]].values)\n",
    "        #print(df[headers[0]].values.astype(float))\n",
    "        #print(df[headers[0]])\n",
    "        popt, pcov = curve_fit(func, weights,\n",
    "                               df[headers[0]].values.astype(float))\n",
    "        #print(popt)\n",
    "        df2[headers2[2]][s] = popt[0]\n",
    "        df2[headers2[3]][s] = popt[1]\n",
    "\n",
    "        popt, pcov = curve_fit(func, weights,\n",
    "                               df[headers[1]].values.astype(float))\n",
    "        df2[headers2[0]][s] = popt[0] * 1000 / 9.81\n",
    "        df2[headers2[1]][s] = popt[1]\n",
    "\n",
    "        popt, pcov = curve_fit(func, weights,\n",
    "                               df[headers[5]].values.astype(float))\n",
    "        df2[headers2[4]][s] = popt[0] * 1000 / 9.81\n",
    "        df2[headers2[5]][s] = popt[1]\n",
    "\n",
    "        popt, pcov = curve_fit(func, weights,\n",
    "                               df[headers[2]].values.astype(float))\n",
    "        df2[headers2[6]][s] = popt[0] * 1000 / 9.81\n",
    "        df2[headers2[7]][s] = popt[1]\n",
    "\n",
    "        df2[headers2[8]][s] = (\n",
    "            df[headers[3]].mean() + df[headers[6]].mean()) / 2\n",
    "        df2[headers2[9]][s] = (\n",
    "            df[headers[4]].mean() + df[headers[7]].mean()) / 2\n",
    "    #     df2[headers2[10]][s]=\n",
    "\n",
    "    writer.save()\n",
    "    df2[headers2[10]] = df2[headers2[9]] / df2[headers2[8]]\n",
    "    df2.to_excel(writer2, sheet_name=str(a))\n",
    "\n",
    "# writer2.save()"
   ]
  },
  {
   "cell_type": "code",
   "execution_count": null,
   "metadata": {
    "colab": {},
    "colab_type": "code",
    "deletable": true,
    "editable": true,
    "id": "kgN_XYEK3yDO"
   },
   "outputs": [],
   "source": [
    "#%matplotlib inline\n",
    "%matplotlib qt\n",
    "plt.plot(dfs['strain'], dfs['force'],label='data')\n",
    "plt.scatter(dfs2['strain'], dfs2['min'],label='min')\n",
    "plt.scatter(dfs3['strain'], dfs3['max'],label='max')\n",
    "plt.show()"
   ]
  },
  {
   "cell_type": "code",
   "execution_count": null,
   "metadata": {
    "colab": {},
    "colab_type": "code",
    "deletable": true,
    "editable": true,
    "id": "jcSjjSrr3yDV"
   },
   "outputs": [],
   "source": [
    "#%matplotlib inline\n",
    "%matplotlib qt\n",
    "plt.plot(df2.index, df2[headers2[0]],label='data')\n",
    "plt.show()"
   ]
  },
  {
   "cell_type": "code",
   "execution_count": null,
   "metadata": {
    "colab": {},
    "colab_type": "code",
    "deletable": true,
    "editable": true,
    "id": "E5letEqt3yDb"
   },
   "outputs": [],
   "source": [
    "#%matplotlib inline\n",
    "%matplotlib qt\n",
    "file2=surcon+'\\\\analysis.xlsx'\n",
    "for a in areas:\n",
    "    df3 = pd.read_excel(file2, sheet_name=str(a))\n",
    "    plt.plot(df3.index, df3[headers2[4]],label=str(a))\n",
    "    #plt.scatter(df3[headers2[10]], df3[headers2[10]],label=str(a))\n",
    "\n",
    "plt.show()"
   ]
  },
  {
   "cell_type": "markdown",
   "metadata": {
    "colab_type": "text",
    "deletable": true,
    "editable": true,
    "id": "I2pcl6eq3yDi"
   },
   "source": [
    "Calculating the nonlinear models\n",
    "$$F_f=aF_N^n+cF_N$$\n",
    "where is $n$ is either $1/2$ or $2/3$"
   ]
  },
  {
   "cell_type": "code",
   "execution_count": null,
   "metadata": {
    "colab": {},
    "colab_type": "code",
    "deletable": true,
    "editable": true,
    "id": "gD9EEJnG3yDl"
   },
   "outputs": [],
   "source": [
    "def func2(x, a, c):\n",
    "    return a * x**(2/3.0) +c*x"
   ]
  },
  {
   "cell_type": "code",
   "execution_count": null,
   "metadata": {
    "colab": {},
    "colab_type": "code",
    "deletable": true,
    "editable": true,
    "id": "84L9u1Qc3yDq"
   },
   "outputs": [],
   "source": [
    "#%matplotlib inline\n",
    "# %matplotlib qt\n",
    "writer3 = pd.ExcelWriter(surcon + '\\\\analysis_1.xlsx', engine='xlsxwriter')\n",
    "file4 = surcon + '\\\\analysis.xlsx'\n",
    "xls3 = pd.ExcelFile(file4)\n",
    "areas2 = [int(a) for a in xls3.sheet_names]\n",
    "# print(areas2)\n",
    "for a in areas2:\n",
    "    df5 = pd.read_excel(file4, index_col=None, sheet_name=str(a))\n",
    "    df5 = df5.reset_index().dropna()\n",
    "    df5['index'] = df5['index'].astype(int)\n",
    "    df5 = df5.set_index('index')\n",
    "\n",
    "    df5['new_a'] = np.nan\n",
    "    df5['new_c'] = np.nan\n",
    "\n",
    "    file3 = surcon + '\\\\' + str(a) + 'mm\\\\analysis.xlsx'\n",
    "    xls2 = pd.ExcelFile(file3)\n",
    "    speeds2 = [int(s) for s in xls2.sheet_names]\n",
    "    for s in speeds2:\n",
    "        df4 = pd.read_excel(file3, sheet_name=str(s))\n",
    "        df4 = df4.reset_index().dropna()\n",
    "        df4['index'] = df4['index'].astype(int)\n",
    "        df4 = df4.set_index('index')\n",
    "        popt, pcov = curve_fit(\n",
    "            func2,\n",
    "            df4.index,\n",
    "            df4[headers[1]].values.astype(float),\n",
    "            maxfev=1000,\n",
    "            p0=[df5[headers2[1]][s], df5[headers2[0]][s]])\n",
    "        #print(popt)\n",
    "        df5['new_a'][s] = popt[0]\n",
    "        df5['new_c'][s] = popt[1]\n",
    "    df5[['new_a', 'new_c']].to_excel(writer3, sheet_name=str(a))\n",
    "    #print(df5[['new_a','new_c']])\n",
    "writer3.save()\n",
    "# plt.plot(df5.index, df5['new_a'],label='a')\n",
    "# plt.plot(df5.index, df5['new_c'],label='c')\n",
    "# plt.show()"
   ]
  },
  {
   "cell_type": "markdown",
   "metadata": {
    "colab_type": "text",
    "deletable": true,
    "editable": true,
    "id": "mgBAnlbA3yDv"
   },
   "source": [
    "comparing linear and nonleaner models for friction "
   ]
  },
  {
   "cell_type": "code",
   "execution_count": null,
   "metadata": {
    "colab": {},
    "colab_type": "code",
    "deletable": true,
    "editable": true,
    "id": "XsS3xbuj3yDy",
    "outputId": "19923b73-29dc-45e2-e996-87e5d1877ef7"
   },
   "outputs": [
    {
     "name": "stdout",
     "output_type": "stream",
     "text": [
      "lin:  4.570348107914248\n",
      "05:  4.767694822076519\n",
      "23:  4.8696002018532685\n"
     ]
    }
   ],
   "source": [
    "%matplotlib qt\n",
    "\n",
    "areas2 = [900, 1700, 2500]\n",
    "\n",
    "file_lin = surcon + '\\\\analysis_lin.xlsx'\n",
    "xls_lin = pd.ExcelFile(file_lin)\n",
    "\n",
    "file_05 = surcon + '\\\\analysis_05.xlsx'\n",
    "xls_05 = pd.ExcelFile(file_05)\n",
    "\n",
    "file_23 = surcon + '\\\\analysis_23.xlsx'\n",
    "xls_23 = pd.ExcelFile(file_23)\n",
    "\n",
    "error_lin = 0.0\n",
    "error_05 = 0.0\n",
    "error_23 = 0.0\n",
    "\n",
    "for a in areas2:\n",
    "    file_a = surcon + '\\\\' + str(a) + 'mm\\\\analysis.xlsx'\n",
    "    xls_a = pd.ExcelFile(file_a)\n",
    "    speeds_a = [int(s) for s in xls_a.sheet_names]\n",
    "\n",
    "    df_lin = pd.read_excel(file_lin, sheet_name=str(a))\n",
    "\n",
    "    df_05 = pd.read_excel(file_05, sheet_name=str(a))\n",
    "    df_05 = df_05.dropna()\n",
    "    df_05['index'] = df_05['index'].astype(int)\n",
    "    df_05 = df_05.set_index('index')\n",
    "\n",
    "    df_23 = pd.read_excel(file_23, sheet_name=str(a))\n",
    "    df_23 = df_23.dropna()\n",
    "    df_23['index'] = df_23['index'].astype(int)\n",
    "    df_23 = df_23.set_index('index')\n",
    "\n",
    "    for s in speeds_a:\n",
    "        df_s = pd.read_excel(file_a, sheet_name=str(s))\n",
    "        #print(a,',',s)\n",
    "        error_lin += np.sum(\n",
    "            np.absolute(df_s.static_force.values - (\n",
    "                df_lin['static_force_a'][s] * df_s.index.values * 9.81 / 1000 +\n",
    "                df_lin['static_force_b'][s])))\n",
    "        error_05 += np.sum(\n",
    "            np.absolute(df_s.static_force.values -\n",
    "                        (df_05['new_a'][s] * df_s.index.values**0.5 +\n",
    "                         df_05['new_c'][s] * df_s.index.values)))\n",
    "        error_23 += np.sum(\n",
    "            np.absolute(df_s.static_force.values -\n",
    "                        (df_23['new_a'][s] * df_s.index.values**\n",
    "                         (2.0 / 3.0) + df_23['new_c'][s] * df_s.index.values)))\n",
    "        #print(np.absolute(df_05['new_c'][s]))\n",
    "        #print(df_lin['static_force_a'][s])\n",
    "\n",
    "print('lin: ', error_lin)\n",
    "print('05: ', error_05)\n",
    "print('23: ', error_23)\n",
    "# plt.scatter(df_s.index, df_s.static_force.values,label='org')\n",
    "# plt.plot(df_s.index, (df_lin['static_force_a'][s]*df_s.index.values*9.81/1000-df_lin['static_force_b'][s]),label='lin')\n",
    "# plt.plot(df_s.index, (df_05['new_a'][s]*df_s.index.values**0.5+df_05['new_c'][s]*df_s.index.values),label='0.5')\n",
    "# plt.plot(df_s.index, (df_23['new_a'][s]*df_s.index.values**(2.0/3.0)+df_23['new_c'][s]*df_s.index.values),label='2/3')\n",
    "# plt.legend()\n",
    "# plt.show()"
   ]
  }
 ],
 "metadata": {
  "colab": {
   "name": "20180930_Foad.ipynb",
   "provenance": [],
   "version": "0.3.2"
  },
  "kernelspec": {
   "display_name": "Python 3",
   "language": "python",
   "name": "python3"
  },
  "language_info": {
   "codemirror_mode": {
    "name": "ipython",
    "version": 3
   },
   "file_extension": ".py",
   "mimetype": "text/x-python",
   "name": "python",
   "nbconvert_exporter": "python",
   "pygments_lexer": "ipython3",
   "version": "3.7.2"
  }
 },
 "nbformat": 4,
 "nbformat_minor": 2
}
