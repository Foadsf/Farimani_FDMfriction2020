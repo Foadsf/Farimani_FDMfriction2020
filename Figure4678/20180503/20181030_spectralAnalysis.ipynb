{
 "cells": [
  {
   "cell_type": "markdown",
   "metadata": {},
   "source": [
    "`xlsxwriter` needs to be installed"
   ]
  },
  {
   "cell_type": "code",
   "execution_count": 1,
   "metadata": {},
   "outputs": [],
   "source": [
    "#seting up the working directory to the current directory\n",
    "import os\n",
    "os.chdir(os.getcwd())"
   ]
  },
  {
   "cell_type": "code",
   "execution_count": 2,
   "metadata": {},
   "outputs": [],
   "source": [
    "import pandas as pd\n",
    "import numpy as np\n",
    "import matplotlib.pyplot as plt"
   ]
  },
  {
   "cell_type": "code",
   "execution_count": 3,
   "metadata": {},
   "outputs": [],
   "source": [
    "from scipy.optimize import curve_fit\n",
    "\n",
    "#for excel export\n",
    "import xlsxwriter\n",
    "\n",
    "#for plot smoothing\n",
    "#from scipy.interpolate import spline\n",
    "from scipy.interpolate import splev, splrep\n",
    "\n",
    "#for autocorreltation \n",
    "# from interpacf import interpolated_acf, dominant_period\n",
    "\n",
    "#FFT\n",
    "from numpy import fft\n",
    "import scipy.fftpack\n",
    "from scipy.interpolate import UnivariateSpline\n",
    "import scipy.interpolate as inter\n",
    "\n",
    "from scipy.interpolate import spline\n",
    "from scipy.interpolate import splev, splrep\n",
    "\n",
    "# import seaborn as sns\n",
    "# sns.set()\n",
    "from scipy import stats"
   ]
  },
  {
   "cell_type": "code",
   "execution_count": 4,
   "metadata": {},
   "outputs": [],
   "source": [
    "speeds=[10,30,50,100,150,200,300,400,600,800,1000,1400,1800]\n",
    "weights=[41,53,65,77,89,136,184,232]"
   ]
  },
  {
   "cell_type": "code",
   "execution_count": 5,
   "metadata": {},
   "outputs": [],
   "source": [
    "def func_lin(x,a,b):\n",
    "    return a*x+b\n",
    "\n",
    "def func_exp(x,a,b,c):\n",
    "    return a*np.exp(b*x)+c\n",
    "\n",
    "def func_hess(x,a,b,c):\n",
    "    return a+b/(1+(x/c)**2)\n",
    "\n",
    "def func_arm(x,a,b,c):\n",
    "    return a+b*np.exp(-(x/c)**2)"
   ]
  },
  {
   "cell_type": "markdown",
   "metadata": {},
   "source": [
    "FFT using Numpy:"
   ]
  },
  {
   "cell_type": "code",
   "execution_count": 10,
   "metadata": {
    "collapsed": true
   },
   "outputs": [],
   "source": [
    "%matplotlib qt\n",
    "\n",
    "# writer = pd.ExcelWriter('spectral_FFT_np.xlsx', engine='xlsxwriter')\n",
    "\n",
    "\n",
    "for w in weights:\n",
    "    dfs2=pd.DataFrame(columns=['freq','mag'],index=speeds)\n",
    "    for j, s in enumerate(speeds):\n",
    "        dfs = pd.read_excel(\"friction coeficient_\"+str(w)+\"g.xls\", sheet_name=j+3)\n",
    "        dfs.columns=['time','strain','force','work']\n",
    "        dfs=dfs.drop(dfs.index[[0,1]])\n",
    "\n",
    "\n",
    "\n",
    "        # dfs.sort_values(by=['strain'],inplace=True)\n",
    "        \n",
    "        #removing anytheing before the max\n",
    "        dfs.drop(dfs.index[:dfs['force'].astype(float).idxmax()],inplace=True)\n",
    "        #removing anything after the strain is constant\n",
    "        dfs=dfs[(dfs['strain'].iloc[-1]-dfs['strain'])>0.001]\n",
    "\n",
    "\n",
    "\n",
    "        force=dfs['force'].values.astype(float)\n",
    "        strain=dfs['strain'].values.astype(float)\n",
    "\n",
    "\n",
    "        N=force.size\n",
    "        # L1=strain[1]-strain[0] # sample rate\n",
    "        # L2=(strain[-1]-strain[0])/N\n",
    "\n",
    "        # print(L1,',',L2)\n",
    "        popt, pcov = curve_fit(func_lin, dfs.index, strain)\n",
    "        # print(popt)\n",
    "        L=popt[0]\n",
    "\n",
    "        # plt.scatter(dfs.index, strain, s=2)\n",
    "        # plt.plot(dfs.index, popt[0]*dfs.index+popt[1])\n",
    "\n",
    "        # 1/L = frequency\n",
    "        f = np.linspace(0, 1 / L, N)\n",
    "\n",
    "        # # plt.plot(strain, force)\n",
    "\n",
    "        # #FFT\n",
    "        # #numpy\n",
    "        sp = np.fft.fft(force-force.mean())\n",
    "        # freq = np.fft.fftfreq(strain.shape[-1])\n",
    "\n",
    "        # # plt.plot(freq, np.abs(sp))\n",
    "\n",
    "    #     print(speeds[j],',',f[(np.abs(sp)[:N // 2]).argmax(axis=0)],',',np.abs(sp).max()* 1 / N)\n",
    "        dfs2['freq'][s]=f[(np.abs(sp)[:N // 2]).argmax(axis=0)]\n",
    "        dfs2['mag'][s]=np.abs(sp).max() / N\n",
    "    # dfs2\n",
    "    plt.plot(dfs2.index.values.astype(float), dfs2['mag'],label=str(w))\n",
    "    # plt.bar(f[:N // 2], np.abs(sp)[:N // 2] * 1 / N, width=0.01)  # 1 / N is a normalization factor\n",
    "#     plt.plot(f[:N // 2], np.abs(sp)[:N // 2] / N)  # 1 / N is a normalization factor\n",
    "#     dfs2.to_excel(writer, sheet_name=str(w))\n",
    "\n",
    "\n",
    "# plt.xlim(0,)\n",
    "\n",
    "# plt.ylabel(\"Frequency (1/mm)\")\n",
    "plt.ylabel(\"Amplitude (N)\")\n",
    "plt.xlabel(\"Speed (mm/min)\")\n",
    "plt.legend(title=\"Normal force (gram)\")\n",
    "plt.show()\n",
    "\n",
    "\n",
    "# writer.save()"
   ]
  },
  {
   "cell_type": "code",
   "execution_count": 47,
   "metadata": {},
   "outputs": [],
   "source": [
    "#follwoing this page: https://stackoverflow.com/questions/25735153/plotting-a-fast-fourier-transform-in-python\n",
    "\n",
    "# %matplotlib inline\n",
    "%matplotlib qt\n",
    "\n",
    "writer = pd.ExcelWriter('spectral_FFT_scipy.xlsx', engine='xlsxwriter')\n",
    "\n",
    "# w = 41\n",
    "# j = 0\n",
    "for w in weights:\n",
    "    dfs2=pd.DataFrame(columns=['mean', 'per','mag'],index=speeds)\n",
    "    for j, s in enumerate(speeds):\n",
    "        dfs = pd.read_excel(\"friction coeficient_\"+str(w)+\"g.xls\", sheet_name=j+3)\n",
    "        dfs.columns=['time','strain','force','work']\n",
    "        dfs=dfs.drop(dfs.index[[0,1]])\n",
    "\n",
    "\n",
    "\n",
    "        # dfs.sort_values(by=['strain'],inplace=True)\n",
    "\n",
    "        #removing anytheing before the max\n",
    "        dfs.drop(dfs.index[:dfs['force'].astype(float).idxmax()],inplace=True)\n",
    "        #removing anything after the strain is constant\n",
    "        dfs=dfs[(dfs['strain'].iloc[-1]-dfs['strain'])>0.001]\n",
    "\n",
    "\n",
    "        force=dfs['force'].values.astype(float)\n",
    "        mean = force.mean()\n",
    "        \n",
    "        force -= mean\n",
    "        strain=dfs['strain'].values.astype(float)\n",
    "        strain -= strain[0]\n",
    "        # time=dfs['time'].values.astype(float)*60\n",
    "\n",
    "        #number of sample points\n",
    "        N=force.size\n",
    "\n",
    "\n",
    "\n",
    "        #sample spacing\n",
    "        popt, pcov = curve_fit(func_lin, np.arange(N), strain)\n",
    "        L=popt[0]\n",
    "\n",
    "        # print(strain[-1])\n",
    "        # print(L * N +popt[1])\n",
    "        # plt.plot(np.arange(N), strain)\n",
    "        # plt.plot(np.arange(N), L*np.arange(N)+popt[1])\n",
    "\n",
    "        # plt.subplot(2, 1, 1)\n",
    "        # plt.plot(strain, force)\n",
    "        # plt.grid()\n",
    "\n",
    "\n",
    "\n",
    "\n",
    "        force_f = 2.0/N *np.abs(scipy.fftpack.fft(force))\n",
    "        freq = np.linspace(0.0, 1.0/(2.0*L), N//2) \n",
    "\n",
    "\n",
    "\n",
    "        x = 1/freq[1:]\n",
    "        # print(x<3)\n",
    "        xlim = (5-2)*(s-250)/(1800-250)+2\n",
    "        xp = x[x<xlim]\n",
    "        # print(x)\n",
    "        y = force_f[1:N//2]\n",
    "        yp = y[x<xlim]\n",
    "        # spl = UnivariateSpline(x, y)\n",
    "        # spl = inter.InterpolatedUnivariateSpline (x, y)\n",
    "        # spl = inter.UnivariateSpline(x[::-1], y[::-1], s=0.00001)\n",
    "\n",
    "        dfs2['per'][s]=xp[yp.argmax()]\n",
    "        dfs2['mag'][s]=yp.max()\n",
    "        dfs2['mean'][s] = mean\n",
    "\n",
    "    #     print(xp[yp.argmax()], ', ', yp.max())\n",
    "\n",
    "        # plt.subplot(2, 1, 2)\n",
    "        # plt.xlim(0,3)\n",
    "        # plt.semilogx(x, spl(x))\n",
    "        # plt.semilogx(x,  y)\n",
    "        # plt.plot(x, y)\n",
    "    #     plt.plot(xp, yp, label = str(s))\n",
    "        # plt.grid()\n",
    "        #     plt.semilogx(x, np.sort(y), label = str(s))\n",
    "\n",
    "        dfs2.to_excel(writer, sheet_name=str(w))\n",
    "\n",
    "\n",
    "# plt.plot(dfs2.index,dfs2['mag'])\n",
    "# plt.legend()\n",
    "# plt.show()\n",
    "\n",
    "writer.save()"
   ]
  },
  {
   "cell_type": "code",
   "execution_count": 54,
   "metadata": {},
   "outputs": [
    {
     "name": "stdout",
     "output_type": "stream",
     "text": [
      "5.548849244801261e-05\n",
      "0.0007189656047889978\n",
      "0.004104907784862641\n"
     ]
    },
    {
     "data": {
      "text/plain": [
       "<matplotlib.axes._subplots.AxesSubplot at 0x127126550>"
      ]
     },
     "execution_count": 54,
     "metadata": {},
     "output_type": "execute_result"
    },
    {
     "data": {
      "image/png": "[encoded data removed]",
      "text/plain": [
       "<Figure size 432x288 with 1 Axes>"
      ]
     },
     "metadata": {
      "needs_background": "light"
     },
     "output_type": "display_data"
    }
   ],
   "source": [
    "print(stats.mode(y)[0][0])\n",
    "print(y.mean())\n",
    "print(y.max())\n",
    "sns.distplot(y)"
   ]
  },
  {
   "cell_type": "code",
   "execution_count": 76,
   "metadata": {},
   "outputs": [
    {
     "data": {
      "image/png": "[encoded data removed]",
      "text/plain": [
       "<Figure size 432x288 with 1 Axes>"
      ]
     },
     "metadata": {},
     "output_type": "display_data"
    }
   ],
   "source": [
    "dfs2=pd.DataFrame(columns=['Fk', 'Fs','Vs'],index=weights)\n",
    "for j, w in enumerate(weights):\n",
    "    dfs = pd.read_excel(\"spectral_FFT_scipy.xlsx\", sheet_name=j)\n",
    "    mean = dfs['mean'].values.astype(float)\n",
    "#     plt.scatter(dfs.index, mean, label = str(w))\n",
    "    popt, pcov = curve_fit(func_hess, dfs.index, mean, p0=[mean[-1],mean[0]-mean[-1],100])\n",
    "    dfs2['Fk'][w] = popt[0]\n",
    "    dfs2['Fs'][w] = popt[0] + popt[1]\n",
    "    dfs2['Vs'][w] = popt[2]\n",
    "#     print(popt)\n",
    "#     plt.plot(dfs.index, func_hess(dfs.index, *popt))\n",
    "\n",
    "# dfs2\n",
    "plt.plot(dfs2.index, dfs2['Vs'])\n",
    "# plt.legend()\n",
    "plt.show()"
   ]
  },
  {
   "cell_type": "code",
   "execution_count": 75,
   "metadata": {},
   "outputs": [
    {
     "data": {
      "image/png": "[encoded data removed]",
      "text/plain": [
       "<Figure size 432x288 with 1 Axes>"
      ]
     },
     "metadata": {},
     "output_type": "display_data"
    }
   ],
   "source": [
    "dfs2=pd.DataFrame(columns=['Fk', 'Fs','Vs'],index=weights)\n",
    "for j, w in enumerate(weights):\n",
    "    dfs = pd.read_excel(\"spectral_FFT_scipy.xlsx\", sheet_name=j)\n",
    "    mean = dfs['mean'].values.astype(float)\n",
    "#     plt.scatter(dfs.index, mean, label = str(w))\n",
    "    popt, pcov = curve_fit(func_arm, dfs.index, mean, p0=[mean[-1],mean[0]-mean[-1],100])\n",
    "    dfs2['Fk'][w] = popt[0]\n",
    "    dfs2['Fs'][w] = popt[0] + popt[1]\n",
    "    dfs2['Vs'][w] = popt[2]\n",
    "#     print(popt)\n",
    "#     plt.plot(dfs.index, func_arm(dfs.index, *popt))\n",
    "\n",
    "# dfs2\n",
    "plt.plot(dfs2.index, dfs2['Vs'])\n",
    "# plt.legend()\n",
    "plt.show()"
   ]
  },
  {
   "cell_type": "code",
   "execution_count": 9,
   "metadata": {},
   "outputs": [],
   "source": [
    "%matplotlib qt\n",
    "\n",
    "# sns.set(rc={'figure.figsize':(10,5)}, font_scale=1.5)\n",
    "# sns.set_style({'axes.facecolor':'white', 'grid.color': '.8', 'font.family':'Times New Roman'})\n",
    "\n",
    "plt.rc('text', usetex=True)\n",
    "plt.rc('font', family='serif')\n",
    "fig = plt.gcf()\n",
    "fig.set_size_inches(10, 5)\n",
    "\n",
    "font = {'family' : 'serif',\n",
    "        # 'weight' : 'bold',\n",
    "        'size'   : 20}\n",
    "\n",
    "plt.rc('font', **font)\n",
    "\n",
    "for j, w in enumerate(weights):\n",
    "    dfs = pd.read_excel(\"spectral_FFT_scipy.xlsx\", sheet_name=j)\n",
    "    x=dfs.index\n",
    "    y=dfs['per']\n",
    "#     xnew=np.linspace(x.min(),x.max(),1000)\n",
    "#     spl = splrep(x, y)\n",
    "#     ynew=splev(xnew, spl)\n",
    "    plt.plot(x, y, linestyle = '--', marker = 'o', markersize = 5, linewidth=2, label = str(w))\n",
    "#     plt.plot(xnew,ynew)\n",
    "\n",
    "plt.xlabel(r'Velocity $\\mathrm{(mm/min)}$')\n",
    "plt.ylabel(r'Periodicity $\\mathrm{(mm)}$')\n",
    "\n",
    "plt.legend(shadow = True, ncol = 2, title = r'Mass $\\mathrm{(gram)}$', labelspacing = 0.2, columnspacing = 0.2, borderpad = 0.2, prop={'size': 15})\n",
    "plt.grid(linestyle = '--', linewidth=0.4)\n",
    "plt.tight_layout()\n",
    "plt.show()\n",
    "\n",
    "fig.savefig(\"Periodicity_20190305.pdf\", bbox_inches='tight')"
   ]
  },
  {
   "cell_type": "code",
   "execution_count": 49,
   "metadata": {},
   "outputs": [
    {
     "data": {
      "image/png": "[encoded data removed]",
      "text/plain": [
       "<Figure size 432x288 with 1 Axes>"
      ]
     },
     "metadata": {
      "needs_background": "light"
     },
     "output_type": "display_data"
    }
   ],
   "source": [
    "for j, w in enumerate(weights):\n",
    "    dfs = pd.read_excel(\"spectral_FFT_scipy.xlsx\", sheet_name=j)\n",
    "    plt.plot(dfs.index, dfs['mag'], label = str(w))\n",
    "\n",
    "plt.legend()\n",
    "plt.show()"
   ]
  },
  {
   "cell_type": "markdown",
   "metadata": {},
   "source": [
    "Using [interpacf](https://github.com/bmorris3/interp-acf) files `ACF0*.py`"
   ]
  },
  {
   "cell_type": "code",
   "execution_count": 12,
   "metadata": {
    "collapsed": true
   },
   "outputs": [],
   "source": [
    "%matplotlib qt\n",
    "\n",
    "for w in weights:\n",
    "    dfs4 = pd.read_excel(\"spectral_autocor_interpacf.xlsx\", sheet_name=str(w))\n",
    "    plt.plot(dfs4.index.values.astype(float), dfs4['mag'],label=str(w))\n",
    "    \n",
    "\n",
    "plt.ylabel(\"Amplitude (N)\")\n",
    "# plt.ylabel(\"Jumping interval (mm)\")\n",
    "plt.xlabel(\"Speed (mm/min)\")\n",
    "plt.legend(title=\"Normal force (gram)\")\n",
    "plt.show()"
   ]
  },
  {
   "cell_type": "markdown",
   "metadata": {},
   "source": [
    "Numpy FFT examples:"
   ]
  },
  {
   "cell_type": "code",
   "execution_count": 30,
   "metadata": {},
   "outputs": [],
   "source": [
    "%matplotlib qt\n",
    "# t = np.arange(256)\n",
    "N = 10000\n",
    "t=np.linspace(0, 30, num=N)\n",
    "# print(t)\n",
    "y=np.sin(t*np.pi*2)\n",
    "plt.subplot(2, 1, 1)\n",
    "plt.plot(t,y)\n",
    "plt.grid()\n",
    "sp = np.fft.fft(y)\n",
    "\n",
    "freq = np.fft.fftfreq(N)\n",
    "# plt.plot(freq, sp.real, label='real')\n",
    "# plt.plot(freq, sp.imag, label='image')\n",
    "plt.subplot(2, 1, 2)\n",
    "plt.semilogx(1/freq[1:N//2], 2.0/N *np.abs(sp[1:N//2]), label='abs')\n",
    "plt.grid()\n",
    "\n",
    "# plt.plot(np.abs(sp))\n",
    "\n",
    "# plt.xlim(0,)\n",
    "# plt.legend()\n",
    "plt.show()"
   ]
  },
  {
   "cell_type": "markdown",
   "metadata": {},
   "source": [
    "from [this](https://www.ritchievink.com/blog/2017/04/23/understanding-the-fourier-transform-by-example/) example:"
   ]
  },
  {
   "cell_type": "code",
   "execution_count": 78,
   "metadata": {
    "collapsed": true
   },
   "outputs": [],
   "source": [
    "t = np.linspace(0, 0.5, 500)\n",
    "s = np.sin(40 * 2 * np.pi * t) + 0.5 * np.sin(90 * 2 * np.pi * t)\n",
    "\n",
    "plt.ylabel(\"Amplitude\")\n",
    "plt.xlabel(\"Time [s]\")\n",
    "plt.plot(t, s)\n",
    "plt.show()"
   ]
  },
  {
   "cell_type": "code",
   "execution_count": 81,
   "metadata": {},
   "outputs": [
    {
     "name": "stdout",
     "output_type": "stream",
     "text": [
      "Value at index 0:\t(0.000380483492839645-0.060555031761900024j) \n",
      "Value at index 499:\t(0.00038048349283956173+0.06055503176189987j)\n",
      "Value at index 1:\t(0.0015317714831371843-0.121888085280695j) \n",
      "Value at index 498:\t(0.001531771483137545+0.12188808528069514j)\n"
     ]
    }
   ],
   "source": [
    "fft = np.fft.fft(s)\n",
    "\n",
    "\n",
    "for i in range(2):\n",
    "    print(\"Value at index {}:\\t{}\".format(i, fft[i + 1]), \"\\nValue at index {}:\\t{}\".format(fft.size -1 - i, fft[-1 - i]))\n"
   ]
  },
  {
   "cell_type": "code",
   "execution_count": 82,
   "metadata": {
    "collapsed": true
   },
   "outputs": [],
   "source": [
    "fft = np.fft.fft(s)\n",
    "T = t[1] - t[0]  # sample rate\n",
    "N = s.size\n",
    "\n",
    "# 1/T = frequency\n",
    "f = np.linspace(0, 1 / T, N)\n",
    "\n",
    "plt.ylabel(\"Amplitude\")\n",
    "plt.xlabel(\"Frequency [Hz]\")\n",
    "plt.bar(f[:N // 2], np.abs(fft)[:N // 2] * 1 / N, width=1.5)  # 1 / N is a normalization factor\n",
    "plt.show()"
   ]
  },
  {
   "cell_type": "code",
   "execution_count": 63,
   "metadata": {},
   "outputs": [],
   "source": [
    "\n",
    "# Number of samplepoints\n",
    "N = 10000\n",
    "# sample spacing\n",
    "T = 1.0\n",
    "dt = T / N\n",
    "x = np.linspace(0.0, T, N)\n",
    "y = np.sin((1/0.3) * 2.0*np.pi*x) + 0.5*np.sin((1/0.1) * 2.0*np.pi*x)\n",
    "\n",
    "plt.subplot(2, 1, 1)\n",
    "plt.plot(x,y)\n",
    "\n",
    "yf = scipy.fftpack.fft(y)\n",
    "xf = np.linspace(0.0, 1.0/(2.0*dt), N//2)\n",
    "\n",
    "# fig, ax = plt.subplots()\n",
    "plt.subplot(2, 1, 2)\n",
    "plt.semilogx(xf[1:], 2.0/N * np.abs(yf[1:N//2]))\n",
    "plt.grid()\n",
    "plt.show()"
   ]
  },
  {
   "cell_type": "code",
   "execution_count": 80,
   "metadata": {},
   "outputs": [],
   "source": [
    "\n",
    "t0 = 0\n",
    "t1 = 1\n",
    "n_samples = 10000\n",
    "dt =(t1 -t0)/n_samples\n",
    "\n",
    "xs = np.linspace(t0, t1, n_samples)\n",
    "# Generate signal with amplitudes 7 and 3\n",
    "ys = 7*np.sin(15 * 2 * np.pi * xs) + 3*np.sin(13 * 2 * np.pi * xs)\n",
    "\n",
    "plt.subplot(2, 1, 1)\n",
    "plt.plot(xs,ys)\n",
    "\n",
    "np_fft = np.fft.fft(ys)\n",
    "amplitudes = 2/n_samples * np.abs(np_fft) \n",
    "\n",
    "\n",
    "# frequencies = np.linspace(0.0, 1.0/(2.0*dt), n_samples//2)\n",
    "frequencies = np.fft.fftfreq(n_samples) * n_samples * 1/(t1-t0)\n",
    "\n",
    "plt.subplot(2, 1, 2)\n",
    "# plt.semilogx(frequencies, amplitudes[:len(np_fft)//2])\n",
    "plt.semilogx(frequencies[:len(frequencies)//2], amplitudes[:len(np_fft)//2])\n",
    "\n",
    "\n",
    "plt.show()"
   ]
  },
  {
   "cell_type": "code",
   "execution_count": 78,
   "metadata": {},
   "outputs": [],
   "source": [
    "# from here https://stackoverflow.com/a/53434508/4999991\n",
    "\n",
    "import numpy as np\n",
    "import matplotlib.pyplot as plt\n",
    "\n",
    "t0 = 0\n",
    "t1 = 1\n",
    "n_samples = 1000\n",
    "\n",
    "xs = np.linspace(t0, t1, n_samples)\n",
    "# Generate signal with amplitudes 7 and 3\n",
    "ys = 7*np.sin(15 * 2 * np.pi * xs) + 3*np.sin(13 * 2 * np.pi * xs)\n",
    "\n",
    "plt.subplot(2, 1, 1)\n",
    "plt.plot(xs,ys)\n",
    "\n",
    "np_fft = np.fft.fft(ys)\n",
    "amplitudes = 2/n_samples * np.abs(np_fft) #This gives wrong results\n",
    "\n",
    "frequencies = np.fft.fftfreq(n_samples) * n_samples * 1/(t1-t0)\n",
    "\n",
    "plt.subplot(2, 1, 2)\n",
    "plt.plot(frequencies[:len(frequencies)//2], amplitudes[:len(np_fft)//2])\n",
    "plt.show()"
   ]
  },
  {
   "cell_type": "code",
   "execution_count": null,
   "metadata": {},
   "outputs": [],
   "source": []
  }
 ],
 "metadata": {
  "kernelspec": {
   "display_name": "Python 3",
   "language": "python",
   "name": "python3"
  },
  "language_info": {
   "codemirror_mode": {
    "name": "ipython",
    "version": 3
   },
   "file_extension": ".py",
   "mimetype": "text/x-python",
   "name": "python",
   "nbconvert_exporter": "python",
   "pygments_lexer": "ipython3",
   "version": "3.7.3"
  },
  "latex_envs": {
   "LaTeX_envs_menu_present": true,
   "autoclose": false,
   "autocomplete": true,
   "bibliofile": "biblio.bib",
   "cite_by": "apalike",
   "current_citInitial": 1,
   "eqLabelWithNumbers": true,
   "eqNumInitial": 1,
   "hotkeys": {
    "equation": "Ctrl-E",
    "itemize": "Ctrl-I"
   },
   "labels_anchors": false,
   "latex_user_defs": false,
   "report_style_numbering": false,
   "user_envs_cfg": false
  },
  "varInspector": {
   "cols": {
    "lenName": 16,
    "lenType": 16,
    "lenVar": 40
   },
   "kernels_config": {
    "python": {
     "delete_cmd_postfix": "",
     "delete_cmd_prefix": "del ",
     "library": "var_list.py",
     "varRefreshCmd": "print(var_dic_list())"
    },
    "r": {
     "delete_cmd_postfix": ") ",
     "delete_cmd_prefix": "rm(",
     "library": "var_list.r",
     "varRefreshCmd": "cat(var_dic_list()) "
    }
   },
   "types_to_exclude": [
    "module",
    "function",
    "builtin_function_or_method",
    "instance",
    "_Feature"
   ],
   "window_display": false
  }
 },
 "nbformat": 4,
 "nbformat_minor": 2
}
