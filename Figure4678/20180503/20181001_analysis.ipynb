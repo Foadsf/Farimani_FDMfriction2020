{
 "cells": [
  {
   "cell_type": "code",
   "execution_count": 2,
   "metadata": {
    "collapsed": true
   },
   "outputs": [],
   "source": [
    "import os\n",
    "os.chdir(os.getcwd())"
   ]
  },
  {
   "cell_type": "code",
   "execution_count": 3,
   "metadata": {
    "collapsed": true
   },
   "outputs": [],
   "source": [
    "import pandas as pd\n",
    "import numpy as np\n",
    "import matplotlib.pyplot as plt\n",
    "#from openpyxl import load_workbook"
   ]
  },
  {
   "cell_type": "code",
   "execution_count": 4,
   "metadata": {
    "collapsed": true
   },
   "outputs": [],
   "source": [
    "import xlsxwriter\n",
    "from scipy.signal import argrelextrema"
   ]
  },
  {
   "cell_type": "code",
   "execution_count": 5,
   "metadata": {
    "collapsed": true
   },
   "outputs": [],
   "source": [
    "# mean absolute deviation function\n",
    "def mad(data, axis=None):\n",
    "    return np.mean(np.absolute(data - np.mean(data, axis)), axis)"
   ]
  },
  {
   "cell_type": "code",
   "execution_count": 6,
   "metadata": {
    "collapsed": true
   },
   "outputs": [],
   "source": [
    "from scipy.optimize import curve_fit"
   ]
  },
  {
   "cell_type": "code",
   "execution_count": 7,
   "metadata": {
    "collapsed": true
   },
   "outputs": [],
   "source": [
    "def func(x, a, b):\n",
    "    return a * x + b"
   ]
  },
  {
   "cell_type": "code",
   "execution_count": 8,
   "metadata": {
    "collapsed": true
   },
   "outputs": [],
   "source": [
    "speed=[10,30,50,100,150,200,300,400,600,800,1000,1400,1800]\n",
    "weights=[41,53,65,77,89,136,184,232]\n",
    "headers=('static_strain(mm)','static_force','min_mean','min_del','min_del_mad','max_mean','max_del','max_del_mad','')\n",
    "\n",
    "df= pd.DataFrame(columns=headers,index=weights)\n",
    "\n",
    "headers2=['static_force_a','static_force_b','static_strain_a','static_strain_b','kinetic_max_mean_a','kinetic_max_mean_b','kinetic_min_mean_a','kinetic_min_mean_b','kinetic_del_avg','kintetic_del_mad','mad/avg']\n",
    "df2= pd.DataFrame(columns=headers2,index=speed)\n"
   ]
  },
  {
   "cell_type": "code",
   "execution_count": 7,
   "metadata": {
    "collapsed": true
   },
   "outputs": [],
   "source": [
    "writer = pd.ExcelWriter('analysis.xlsx', engine='xlsxwriter')\n",
    "\n",
    "for i,s in enumerate(speed):\n",
    "    for w in weights:\n",
    "        file='friction coeficient_'+str(w)+'g.xls'\n",
    "        dfs = pd.read_excel(file, sheet_name=i+3)\n",
    "        \n",
    "        #clean up columns\n",
    "        dfs.columns=['time','strain','force','work']\n",
    "        dfs=dfs.drop(dfs.index[[0,1]])\n",
    "        \n",
    "        max=dfs['force'].max()\n",
    "        df[headers[0]][w]=dfs[dfs['force']==max].strain.values[0]\n",
    "        df[headers[1]][w]=max\n",
    "        \n",
    "        n=9 # the bigger the more comparison width\n",
    "        dfs['min']=dfs.iloc[argrelextrema(dfs.force.values, np.less_equal, order=n)[0],2]\n",
    "        dfs['max']=dfs.iloc[argrelextrema(dfs.force.values, np.greater_equal, order=n)[0],2]\n",
    "\n",
    "        #removing the NaNs\n",
    "        dfs2=dfs.dropna(subset=['min'])\n",
    "        dfs3=dfs.dropna(subset=['max'])\n",
    "\n",
    "        #calculating the delta\n",
    "        pd.options.mode.chained_assignment = None  # default='warn'\n",
    "        dfs2['del']=dfs2.strain-dfs2.strain.shift(1)\n",
    "        dfs3['del']=dfs3.strain-dfs3.strain.shift(1)\n",
    "\n",
    "        #removing the too close points\n",
    "        dfs2=dfs2[dfs2['del']>0.5*dfs2['del'].mean()]\n",
    "        dfs3=dfs3[dfs3['del']>0.5*dfs3['del'].mean()]\n",
    "\n",
    "        dfs2=dfs2[dfs2['del']<1.9*dfs2['del'].mean()]\n",
    "        dfs3=dfs3[dfs3['del']<1.9*dfs3['del'].mean()]\n",
    "\n",
    "        #removing NaNs\n",
    "        dfs2=dfs2.dropna(subset=['del'])\n",
    "        dfs3=dfs3.dropna(subset=['del'])\n",
    "\n",
    "        #calculating mean frequency and mean absolute deviation\n",
    "        #print(dfs2['min'].mean(),',',dfs2['del'].mean(),',',mad(dfs2['del'].values), end='')\n",
    "        df[headers[2]][w]=dfs2['min'].mean()\n",
    "        df[headers[3]][w]=dfs2['del'].mean()\n",
    "        df[headers[4]][w]=mad(dfs2['del'].values)\n",
    "        #print(dfs3['max'].mean(),',',dfs3['del'].mean(),',',mad(dfs3['del'].values))\n",
    "        df[headers[5]][w]=dfs3['max'].mean()\n",
    "        df[headers[6]][w]=dfs3['del'].mean()\n",
    "        df[headers[7]][w]=mad(dfs3['del'].values)\n",
    "        \n",
    "    df.to_excel(writer, sheet_name=str(s))\n",
    "    popt, pcov = curve_fit(func, weights, df[headers[0]].values.astype(float))\n",
    "    df2[headers2[2]][s]=popt[0]\n",
    "    df2[headers2[3]][s]=popt[1]\n",
    "\n",
    "    popt, pcov = curve_fit(func, weights, df[headers[1]].values.astype(float))\n",
    "    df2[headers2[0]][s]=popt[0]*1000/9.81\n",
    "    df2[headers2[1]][s]=popt[1]\n",
    "\n",
    "    popt, pcov = curve_fit(func, weights, df[headers[5]].values.astype(float))\n",
    "    df2[headers2[4]][s]=popt[0]*1000/9.81\n",
    "    df2[headers2[5]][s]=popt[1]\n",
    "\n",
    "    popt, pcov = curve_fit(func, weights, df[headers[2]].values.astype(float))\n",
    "    df2[headers2[6]][s]=popt[0]*1000/9.81\n",
    "    df2[headers2[7]][s]=popt[1]\n",
    "\n",
    "    df2[headers2[8]][s]=(df[headers[3]].mean()+df[headers[6]].mean())/2\n",
    "    df2[headers2[9]][s]=(df[headers[4]].mean()+df[headers[7]].mean())/2\n",
    "\n",
    "df2[headers2[10]]=df2[headers2[9]]/df2[headers2[8]]\n",
    "df2.to_excel(writer, sheet_name='analysis')\n",
    "writer.save()"
   ]
  },
  {
   "cell_type": "code",
   "execution_count": null,
   "metadata": {
    "collapsed": true
   },
   "outputs": [],
   "source": [
    "%matplotlib inline\n",
    "# %matplotlib qt\n",
    "\n",
    "file='friction coeficient_'+str(weights[0])+'g.xls'\n",
    "dfs = pd.read_excel(file, sheet_name=0+3)\n",
    "\n",
    "plt.plot(dfs['strain'], dfs['force'],label='data')\n",
    "plt.scatter(dfs2['strain'], dfs2['min'],label='min')\n",
    "plt.scatter(dfs3['strain'], dfs3['max'],label='max')\n",
    "plt.show()"
   ]
  },
  {
   "cell_type": "code",
   "execution_count": 157,
   "metadata": {
    "collapsed": true
   },
   "outputs": [],
   "source": [
    "#%matplotlib inline\n",
    "%matplotlib qt\n",
    "plt.plot(df2.index, df2[headers2[0]],label='data')\n",
    "plt.show()"
   ]
  },
  {
   "cell_type": "code",
   "execution_count": 49,
   "metadata": {
    "collapsed": true
   },
   "outputs": [],
   "source": [
    "#%matplotlib inline\n",
    "%matplotlib qt\n",
    "file2='analysis.xlsx'\n",
    "df3 = pd.read_excel(file2, sheet_name='analysis')\n",
    "h=0\n",
    "plt.plot(df3.index, df3[headers2[h]],label=headers2[h])\n",
    "    #plt.scatter(df3[headers2[10]], df3[headers2[10]],label=str(a))\n",
    "\n",
    "plt.show()"
   ]
  },
  {
   "cell_type": "code",
   "execution_count": 2,
   "metadata": {
    "collapsed": true
   },
   "outputs": [],
   "source": [
    "from interpacf import interpolated_acf, dominant_period"
   ]
  },
  {
   "cell_type": "code",
   "execution_count": 8,
   "metadata": {},
   "outputs": [
    {
     "name": "stderr",
     "output_type": "stream",
     "text": [
      "c:\\users\\fsfar\\appdata\\local\\programs\\python\\python37-32\\lib\\site-packages\\interpacf-0.1-py3.7.egg\\interpacf\\interpacf.py:118: NonzeroMedianWarning: Have you normalized your fluxes so that their median is near zero?\n"
     ]
    },
    {
     "data": {
      "text/html": [
       "<div>\n",
       "<style scoped>\n",
       "    .dataframe tbody tr th:only-of-type {\n",
       "        vertical-align: middle;\n",
       "    }\n",
       "\n",
       "    .dataframe tbody tr th {\n",
       "        vertical-align: top;\n",
       "    }\n",
       "\n",
       "    .dataframe thead th {\n",
       "        text-align: right;\n",
       "    }\n",
       "</style>\n",
       "<table border=\"1\" class=\"dataframe\">\n",
       "  <thead>\n",
       "    <tr style=\"text-align: right;\">\n",
       "      <th></th>\n",
       "      <th>41</th>\n",
       "      <th>53</th>\n",
       "      <th>65</th>\n",
       "      <th>77</th>\n",
       "      <th>89</th>\n",
       "      <th>136</th>\n",
       "      <th>184</th>\n",
       "      <th>232</th>\n",
       "    </tr>\n",
       "  </thead>\n",
       "  <tbody>\n",
       "    <tr>\n",
       "      <th>10</th>\n",
       "      <td>1.24616</td>\n",
       "      <td>1.18799</td>\n",
       "      <td>1.2234</td>\n",
       "      <td>1.43279</td>\n",
       "      <td>1.14391</td>\n",
       "      <td>1.68699</td>\n",
       "      <td>2.16073</td>\n",
       "      <td>1.90833</td>\n",
       "    </tr>\n",
       "    <tr>\n",
       "      <th>30</th>\n",
       "      <td>0.937256</td>\n",
       "      <td>0.821824</td>\n",
       "      <td>0.837429</td>\n",
       "      <td>1.02227</td>\n",
       "      <td>0.668449</td>\n",
       "      <td>1.22482</td>\n",
       "      <td>1.39209</td>\n",
       "      <td>1.35946</td>\n",
       "    </tr>\n",
       "    <tr>\n",
       "      <th>50</th>\n",
       "      <td>0.777338</td>\n",
       "      <td>0.826931</td>\n",
       "      <td>0.79303</td>\n",
       "      <td>0.876446</td>\n",
       "      <td>0.77736</td>\n",
       "      <td>1.07507</td>\n",
       "      <td>1.17411</td>\n",
       "      <td>1.17428</td>\n",
       "    </tr>\n",
       "    <tr>\n",
       "      <th>100</th>\n",
       "      <td>0.666094</td>\n",
       "      <td>0.699399</td>\n",
       "      <td>0.699399</td>\n",
       "      <td>0.799318</td>\n",
       "      <td>0.765997</td>\n",
       "      <td>0.932531</td>\n",
       "      <td>0.965822</td>\n",
       "      <td>1.06575</td>\n",
       "    </tr>\n",
       "    <tr>\n",
       "      <th>150</th>\n",
       "      <td>0.650883</td>\n",
       "      <td>0.89724</td>\n",
       "      <td>0.747671</td>\n",
       "      <td>0.751047</td>\n",
       "      <td>0.801117</td>\n",
       "      <td>0.851154</td>\n",
       "      <td>0.95129</td>\n",
       "      <td>1.0014</td>\n",
       "    </tr>\n",
       "    <tr>\n",
       "      <th>200</th>\n",
       "      <td>0.666094</td>\n",
       "      <td>0.732693</td>\n",
       "      <td>0.730217</td>\n",
       "      <td>0.799315</td>\n",
       "      <td>0.865959</td>\n",
       "      <td>0.999184</td>\n",
       "      <td>1.06575</td>\n",
       "      <td>1.0025</td>\n",
       "    </tr>\n",
       "    <tr>\n",
       "      <th>300</th>\n",
       "      <td>0.699402</td>\n",
       "      <td>0.799316</td>\n",
       "      <td>0.799316</td>\n",
       "      <td>0.799316</td>\n",
       "      <td>0.899231</td>\n",
       "      <td>0.999146</td>\n",
       "      <td>1.10154</td>\n",
       "      <td>1.09906</td>\n",
       "    </tr>\n",
       "    <tr>\n",
       "      <th>400</th>\n",
       "      <td>12.2563</td>\n",
       "      <td>0.932545</td>\n",
       "      <td>0.799988</td>\n",
       "      <td>1.06577</td>\n",
       "      <td>1.06577</td>\n",
       "      <td>1.19898</td>\n",
       "      <td>1.19899</td>\n",
       "      <td>1.19897</td>\n",
       "    </tr>\n",
       "    <tr>\n",
       "      <th>600</th>\n",
       "      <td>7.19385</td>\n",
       "      <td>7.60206</td>\n",
       "      <td>16.0045</td>\n",
       "      <td>1.40038</td>\n",
       "      <td>1.3988</td>\n",
       "      <td>1.60044</td>\n",
       "      <td>1.59863</td>\n",
       "      <td>1.59863</td>\n",
       "    </tr>\n",
       "    <tr>\n",
       "      <th>800</th>\n",
       "      <td>12.5333</td>\n",
       "      <td>14.4121</td>\n",
       "      <td>12.277</td>\n",
       "      <td>9.0666</td>\n",
       "      <td>13.3446</td>\n",
       "      <td>12.8</td>\n",
       "      <td>13.3333</td>\n",
       "      <td>61.8666</td>\n",
       "    </tr>\n",
       "    <tr>\n",
       "      <th>1000</th>\n",
       "      <td>8.99832</td>\n",
       "      <td>16.6525</td>\n",
       "      <td>15.9971</td>\n",
       "      <td>63.3222</td>\n",
       "      <td>10.6648</td>\n",
       "      <td>16.3415</td>\n",
       "      <td>13.6735</td>\n",
       "      <td>15.6745</td>\n",
       "    </tr>\n",
       "    <tr>\n",
       "      <th>1400</th>\n",
       "      <td>21.4587</td>\n",
       "      <td>9.79633</td>\n",
       "      <td>17.7268</td>\n",
       "      <td>14.9278</td>\n",
       "      <td>18.6687</td>\n",
       "      <td>14.4612</td>\n",
       "      <td>14.9314</td>\n",
       "      <td>16.3273</td>\n",
       "    </tr>\n",
       "    <tr>\n",
       "      <th>1800</th>\n",
       "      <td>64.1692</td>\n",
       "      <td>11.3945</td>\n",
       "      <td>11.9942</td>\n",
       "      <td>13.1937</td>\n",
       "      <td>13.7934</td>\n",
       "      <td>5.39944</td>\n",
       "      <td>16.7919</td>\n",
       "      <td>17.9914</td>\n",
       "    </tr>\n",
       "  </tbody>\n",
       "</table>\n",
       "</div>"
      ],
      "text/plain": [
       "           41        53        65        77        89        136       184  \\\n",
       "10     1.24616   1.18799    1.2234   1.43279   1.14391   1.68699   2.16073   \n",
       "30    0.937256  0.821824  0.837429   1.02227  0.668449   1.22482   1.39209   \n",
       "50    0.777338  0.826931   0.79303  0.876446   0.77736   1.07507   1.17411   \n",
       "100   0.666094  0.699399  0.699399  0.799318  0.765997  0.932531  0.965822   \n",
       "150   0.650883   0.89724  0.747671  0.751047  0.801117  0.851154   0.95129   \n",
       "200   0.666094  0.732693  0.730217  0.799315  0.865959  0.999184   1.06575   \n",
       "300   0.699402  0.799316  0.799316  0.799316  0.899231  0.999146   1.10154   \n",
       "400    12.2563  0.932545  0.799988   1.06577   1.06577   1.19898   1.19899   \n",
       "600    7.19385   7.60206   16.0045   1.40038    1.3988   1.60044   1.59863   \n",
       "800    12.5333   14.4121    12.277    9.0666   13.3446      12.8   13.3333   \n",
       "1000   8.99832   16.6525   15.9971   63.3222   10.6648   16.3415   13.6735   \n",
       "1400   21.4587   9.79633   17.7268   14.9278   18.6687   14.4612   14.9314   \n",
       "1800   64.1692   11.3945   11.9942   13.1937   13.7934   5.39944   16.7919   \n",
       "\n",
       "          232  \n",
       "10    1.90833  \n",
       "30    1.35946  \n",
       "50    1.17428  \n",
       "100   1.06575  \n",
       "150    1.0014  \n",
       "200    1.0025  \n",
       "300   1.09906  \n",
       "400   1.19897  \n",
       "600   1.59863  \n",
       "800   61.8666  \n",
       "1000  15.6745  \n",
       "1400  16.3273  \n",
       "1800  17.9914  "
      ]
     },
     "execution_count": 8,
     "metadata": {},
     "output_type": "execute_result"
    }
   ],
   "source": [
    "# writer = pd.ExcelWriter('analysis_2.xlsx', engine='xlsxwriter')\n",
    "\n",
    "df4=pd.DataFrame(columns=weights,index=speed)\n",
    "\n",
    "for i,s in enumerate(speed):\n",
    "    for w in weights:\n",
    "        file='friction coeficient_'+str(w)+'g.xls'\n",
    "        dfs = pd.read_excel(file, sheet_name=i+3)\n",
    "        \n",
    "        #clean up columns\n",
    "        dfs.columns=['time','strain','force','work']\n",
    "        dfs=dfs.drop(dfs.index[[0,1]])\n",
    "        \n",
    "        dfs.sort_values(by=['strain'],inplace=True)\n",
    "        \n",
    "        flux = dfs['force'].values.astype(float) - np.mean(dfs['force'].values.astype(float))\n",
    "\n",
    "        lag, acf = interpolated_acf(dfs['strain'].values.astype(float), flux)\n",
    "        period = dominant_period(lag, acf, fwhm=1, plot=False)\n",
    "        \n",
    "        df4[w][s]=period\n",
    "\n",
    "df4"
   ]
  },
  {
   "cell_type": "code",
   "execution_count": 11,
   "metadata": {},
   "outputs": [
    {
     "data": {
      "text/plain": [
       "<matplotlib.axes._subplots.AxesSubplot at 0x11514430>"
      ]
     },
     "execution_count": 11,
     "metadata": {},
     "output_type": "execute_result"
    }
   ],
   "source": [
    "%matplotlib qt\n",
    "df4.plot()"
   ]
  },
  {
   "cell_type": "code",
   "execution_count": 6,
   "metadata": {
    "collapsed": true
   },
   "outputs": [],
   "source": [
    "def func_2(x,a,b):\n",
    "    return a*x**(2.0/3)+b*x"
   ]
  },
  {
   "cell_type": "code",
   "execution_count": 19,
   "metadata": {},
   "outputs": [
    {
     "data": {
      "text/html": [
       "<div>\n",
       "<style scoped>\n",
       "    .dataframe tbody tr th:only-of-type {\n",
       "        vertical-align: middle;\n",
       "    }\n",
       "\n",
       "    .dataframe tbody tr th {\n",
       "        vertical-align: top;\n",
       "    }\n",
       "\n",
       "    .dataframe thead th {\n",
       "        text-align: right;\n",
       "    }\n",
       "</style>\n",
       "<table border=\"1\" class=\"dataframe\">\n",
       "  <thead>\n",
       "    <tr style=\"text-align: right;\">\n",
       "      <th></th>\n",
       "      <th>a</th>\n",
       "      <th>b</th>\n",
       "    </tr>\n",
       "  </thead>\n",
       "  <tbody>\n",
       "    <tr>\n",
       "      <th>10</th>\n",
       "      <td>0.177009</td>\n",
       "      <td>0.149101</td>\n",
       "    </tr>\n",
       "    <tr>\n",
       "      <th>30</th>\n",
       "      <td>0.172082</td>\n",
       "      <td>0.117917</td>\n",
       "    </tr>\n",
       "    <tr>\n",
       "      <th>50</th>\n",
       "      <td>0.249109</td>\n",
       "      <td>0.0201777</td>\n",
       "    </tr>\n",
       "    <tr>\n",
       "      <th>100</th>\n",
       "      <td>0.187605</td>\n",
       "      <td>0.0628121</td>\n",
       "    </tr>\n",
       "    <tr>\n",
       "      <th>150</th>\n",
       "      <td>0.238538</td>\n",
       "      <td>0.001697</td>\n",
       "    </tr>\n",
       "    <tr>\n",
       "      <th>200</th>\n",
       "      <td>0.238581</td>\n",
       "      <td>-0.000790347</td>\n",
       "    </tr>\n",
       "    <tr>\n",
       "      <th>300</th>\n",
       "      <td>0.200946</td>\n",
       "      <td>0.0190311</td>\n",
       "    </tr>\n",
       "    <tr>\n",
       "      <th>400</th>\n",
       "      <td>0.21915</td>\n",
       "      <td>-0.00045655</td>\n",
       "    </tr>\n",
       "    <tr>\n",
       "      <th>600</th>\n",
       "      <td>0.13747</td>\n",
       "      <td>0.0754179</td>\n",
       "    </tr>\n",
       "    <tr>\n",
       "      <th>800</th>\n",
       "      <td>0.188483</td>\n",
       "      <td>-0.00474815</td>\n",
       "    </tr>\n",
       "    <tr>\n",
       "      <th>1000</th>\n",
       "      <td>0.131781</td>\n",
       "      <td>0.0419305</td>\n",
       "    </tr>\n",
       "    <tr>\n",
       "      <th>1400</th>\n",
       "      <td>0.192238</td>\n",
       "      <td>-0.0266473</td>\n",
       "    </tr>\n",
       "    <tr>\n",
       "      <th>1800</th>\n",
       "      <td>0.183175</td>\n",
       "      <td>-0.0198823</td>\n",
       "    </tr>\n",
       "  </tbody>\n",
       "</table>\n",
       "</div>"
      ],
      "text/plain": [
       "             a            b\n",
       "10    0.177009     0.149101\n",
       "30    0.172082     0.117917\n",
       "50    0.249109    0.0201777\n",
       "100   0.187605    0.0628121\n",
       "150   0.238538     0.001697\n",
       "200   0.238581 -0.000790347\n",
       "300   0.200946    0.0190311\n",
       "400    0.21915  -0.00045655\n",
       "600    0.13747    0.0754179\n",
       "800   0.188483  -0.00474815\n",
       "1000  0.131781    0.0419305\n",
       "1400  0.192238   -0.0266473\n",
       "1800  0.183175   -0.0198823"
      ]
     },
     "execution_count": 19,
     "metadata": {},
     "output_type": "execute_result"
    }
   ],
   "source": [
    "df6=pd.DataFrame(columns=['a','b'],index=speed)\n",
    "for i,s in enumerate(speed):\n",
    "    df5=pd.read_excel('analysis.xlsx', sheet_name=str(s))\n",
    "    popt, pcov = curve_fit(func_2, df5.index.values.astype(float)*9.81/1000, df5['max_mean'].values.astype(float))\n",
    "    df6['a'][s]=popt[0]\n",
    "    df6['b'][s]=popt[1]\n",
    "df6"
   ]
  },
  {
   "cell_type": "code",
   "execution_count": 9,
   "metadata": {
    "collapsed": true
   },
   "outputs": [],
   "source": [
    "%matplotlib qt\n",
    "\n",
    "writer2 = pd.ExcelWriter('analysis_2.xlsx', engine='xlsxwriter')\n",
    "\n",
    "for w in weights:\n",
    "    df7=pd.DataFrame(columns=['kin_max'],index=speed)\n",
    "    for i,s in enumerate(speed):\n",
    "        df8=pd.read_excel('analysis.xlsx', sheet_name=str(s))\n",
    "        df7['kin_max'][s]=df8['max_mean'][w]\n",
    "    df7.to_excel(writer2, sheet_name=str(w))\n",
    "        \n",
    "        \n",
    "writer2.save()"
   ]
  },
  {
   "cell_type": "code",
   "execution_count": null,
   "metadata": {
    "collapsed": true
   },
   "outputs": [],
   "source": []
  }
 ],
 "metadata": {
  "kernelspec": {
   "display_name": "Python 3",
   "language": "python",
   "name": "python3"
  },
  "language_info": {
   "codemirror_mode": {
    "name": "ipython",
    "version": 3
   },
   "file_extension": ".py",
   "mimetype": "text/x-python",
   "name": "python",
   "nbconvert_exporter": "python",
   "pygments_lexer": "ipython3",
   "version": "3.7.2"
  },
  "latex_envs": {
   "LaTeX_envs_menu_present": true,
   "autoclose": false,
   "autocomplete": true,
   "bibliofile": "biblio.bib",
   "cite_by": "apalike",
   "current_citInitial": 1,
   "eqLabelWithNumbers": true,
   "eqNumInitial": 1,
   "hotkeys": {
    "equation": "Ctrl-E",
    "itemize": "Ctrl-I"
   },
   "labels_anchors": false,
   "latex_user_defs": false,
   "report_style_numbering": false,
   "user_envs_cfg": false
  },
  "varInspector": {
   "cols": {
    "lenName": 16,
    "lenType": 16,
    "lenVar": 40
   },
   "kernels_config": {
    "python": {
     "delete_cmd_postfix": "",
     "delete_cmd_prefix": "del ",
     "library": "var_list.py",
     "varRefreshCmd": "print(var_dic_list())"
    },
    "r": {
     "delete_cmd_postfix": ") ",
     "delete_cmd_prefix": "rm(",
     "library": "var_list.r",
     "varRefreshCmd": "cat(var_dic_list()) "
    }
   },
   "types_to_exclude": [
    "module",
    "function",
    "builtin_function_or_method",
    "instance",
    "_Feature"
   ],
   "window_display": false
  }
 },
 "nbformat": 4,
 "nbformat_minor": 2
}
